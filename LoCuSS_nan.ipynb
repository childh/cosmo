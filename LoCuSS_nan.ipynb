{
 "metadata": {
  "name": "",
  "signature": "sha256:37203b0a551e0d1b6d00185a80a1189c9f1e2bee62415722c95e2c7a0127d1fe"
 },
 "nbformat": 3,
 "nbformat_minor": 0,
 "worksheets": [
  {
   "cells": [
    {
     "cell_type": "code",
     "collapsed": false,
     "input": [
      "import numpy as np\n",
      "import matplotlib.pyplot as plt\n",
      "import math\n",
      "\n",
      "%matplotlib inline"
     ],
     "language": "python",
     "metadata": {},
     "outputs": [],
     "prompt_number": 1
    },
    {
     "cell_type": "code",
     "collapsed": false,
     "input": [
      "# Hu & Kravtsov https://arxiv.org/pdf/astro-ph/0203169v1.pdf pg 12\n",
      "\n",
      "def f_of_x(x):\n",
      "    return x**3 * (np.log(1.+1./x) - 1./(1.+x))\n",
      "\n",
      "def hu_x_of_f(f):\n",
      "    a_1 = 0.5116\n",
      "    a_2 = -0.4283\n",
      "    a_3 = -3.13e-3\n",
      "    a_4 = -3.52e-5\n",
      "    p = a_2 + a_3*np.log(f) + a_4*(np.log(f))**2\n",
      "    return (a_1*f**(2.*p) + (3./4.)**2)**(-1./2.) + 2.*f\n",
      "\n",
      "def rs_rh(delta_h, delta_v, c_v):\n",
      "    return hu_x_of_f(delta_h/delta_v*f_of_x(1/c_v))\n",
      "\n",
      "def hu_m_h(m_v, c_v, delta_h, delta_v):\n",
      "    return m_v * delta_h / delta_v * (c_v * rs_rh(delta_h, delta_v, c_v))**-3\n",
      "\n",
      "def m200_of_mvir(mvir, cvir, delta_vir):\n",
      "    return hu_m_h(mvir, cvir, 200., delta_vir)"
     ],
     "language": "python",
     "metadata": {},
     "outputs": [],
     "prompt_number": 2
    },
    {
     "cell_type": "code",
     "collapsed": false,
     "input": [
      "rhocrit = 2.77536627e+11\n",
      "\n",
      "def omega_m_of_z(z, omega_0): # https://arxiv.org/pdf/astro-ph/9710107v1.pdf\n",
      "    e2 = omega_0*(1.+z)**3 + (1.-omega_0)\n",
      "    return omega_0 * (1.+z)**3/e2\n",
      "\n",
      "def r_of_m_delta(m, delta):\n",
      "    return ( m / 4. * 3. / math.pi / rhocrit / delta )**(1./3.)\n"
     ],
     "language": "python",
     "metadata": {},
     "outputs": [],
     "prompt_number": 3
    },
    {
     "cell_type": "code",
     "collapsed": false,
     "input": [
      "# Okabe 2015 https://arxiv.org/pdf/1507.04493v2.pdf pg 16 - 50 clusters\n",
      "okabe_2015_redshifts = np.array([0.232, 0.2546, 0.2924, 0.1971, 0.23, 0.254, 0.206, 0.23, 0.196, 0.1883, 0.2475, 0.171, \n",
      "                        0.288, 0.282, 0.2347, 0.163, 0.217, 0.2984, 0.214, 0.1634, 0.1669, 0.205, 0.2906, 0.213, 0.1992, 0.269, 0.229, 0.226, 0.1832, 0.28,\n",
      "                        0.2279, 0.2528, 0.1712, 0.2578, 0.153, 0.2897, 0.2153, 0.229, 0.1524, 0.2281, 0.164, 0.224, 0.188, 0.235, 0.2329, 0.2472, \n",
      "                        0.2966, 0.2998, 0.2779, 0.251]) # table 1, pg 4\n",
      "okabe_2015_m200 = [6.37e+14, 0.27e+14, 0.28e+14] # mean, - error bar, + error bar\n",
      "okabe_2015_c200 = np.array([3.69, 0.24, 0.26]) # mean, - error bar, + error bar\n",
      "\n",
      "# Okabe 2013 https://arxiv.org/pdf/1302.2728.pdf, table 1\n",
      "okabe_2013_redshift = 0.23 # last paragraph of section 1\n",
      "okabe_2013_m200 = [5.98e+14, 0.38e+14, 0.4e+14] # mean, - error bar, + error bar\n",
      "okabe_2013_c200 = np.array([4.22, 0.36, 0.4]) # mean, - error bar, + error bar\n",
      "\n",
      "# Okabe 2010 https://arxiv.org/pdf/0903.1103.pdf, figure 8 - 19 clusters (right column pg 16)\n",
      "# first entry is the low mass bin (Mvir<6.e+14, 10 clusters); second is high mass bin (Mvir>6.e14, 9 clusters)\n",
      "okabe_2010_mvir = np.array([4.79e+14, 9.68e+14])\n",
      "okabe_2010_mvir_err1 = np.array([0.42e+14, 0.74e+14]) # - error bar\n",
      "okabe_2010_mvir_err2 = np.array([0.46e+14, 0.8e+14]) # + error bar\n",
      "okabe_2010_cvir = np.array([4.68, 3.58])\n",
      "okabe_2010_cvir_err1 = np.array([0.5, 0.32]) # - error bar\n",
      "okabe_2010_cvir_err2 = np.array([0.55, 0.34]) # + error bar\n",
      "\n",
      "okabe_2010_all_redshift = np.array([0.2456, 0.1971, 0.2060, 0.2803, 0.2300, 0.1960, 0.2475, 0.1710, 0.2880, \n",
      "                      0.2820, 0.2528, 0.2578, 0.2897, 0.1640, 0.2240, 0.2350, 0.2329, 0.2472, 0.2780]) # table 1 - 22 with 2-filter data, then exclude A383, A2219, ZwCl0740\n",
      "okabe_2010_all_mass = np.array([5.49, 5.36, 14., 4.49, 3.85, 7.02, 5.85, 7.37, 6.65, 12.36, 13.69, 3.45, 4.4, 4.07, 9.49, 6.71, 8.2, 4.56, 5.24]) # e+14, table 6\n",
      "okabe_2010_redshift_himass = np.mean(okabe_2010_all_redshift[okabe_2010_all_mass > 6.])\n",
      "okabe_2010_redshift_lomass = np.mean(okabe_2010_all_redshift[okabe_2010_all_mass < 6.])\n",
      "okabe_2010_redshift = [okabe_2010_redshift_lomass, okabe_2010_redshift_himass]\n",
      "\n",
      "okabe_2010_x_omega = np.array([omega_m_of_z(okabe_2010_redshift[i], 0.27) - 1. for i in [0,1]]) # pg 3 - omega_m0 = 0.27\n",
      "okabe_2010_delta_vir = (18.*math.pi**2 + 82.*okabe_2010_x_omega - 39.*okabe_2010_x_omega**2)\n",
      "okabe_2010_rvir = np.array([r_of_m_delta(okabe_2010_mvir[i], okabe_2010_delta_vir[i]) for i in [0,1]])\n",
      "okabe_2010_m200 = np.array([m200_of_mvir(okabe_2010_mvir[i], okabe_2010_cvir[i], okabe_2010_delta_vir[i]) for i in [0,1]])\n",
      "okabe_2010_r200 = np.array([r_of_m_delta(okabe_2010_m200[i], 200.) for i in [0,1]])\n",
      "okabe_2010_c200 = okabe_2010_r200/(okabe_2010_rvir/okabe_2010_cvir)\n",
      "okabe_2010_m200_err1 = okabe_2010_mvir_err1/okabe_2010_mvir * okabe_2010_m200\n",
      "okabe_2010_m200_err2 = okabe_2010_mvir_err2/okabe_2010_mvir * okabe_2010_m200\n",
      "okabe_2010_c200_err1 = okabe_2010_cvir_err1/okabe_2010_cvir * okabe_2010_c200\n",
      "okabe_2010_c200_err2 = okabe_2010_cvir_err2/okabe_2010_cvir * okabe_2010_c200"
     ],
     "language": "python",
     "metadata": {},
     "outputs": [],
     "prompt_number": 4
    },
    {
     "cell_type": "code",
     "collapsed": false,
     "input": [
      "fig, ax = plt.subplots(1,1)\n",
      "\n",
      "ax.set_yscale('linear')\n",
      "ax.set_xscale('log')\n",
      "    \n",
      "plt.axis([4.e+11, 2.e+15, 0,6])\n",
      "\n",
      "ax.errorbar(okabe_2010_m200, okabe_2010_c200, xerr=[okabe_2010_m200_err1,okabe_2010_m200_err2], yerr=[okabe_2010_c200_err1,okabe_2010_c200_err2], c='0.5', mec='k', marker='s', fmt=' ', label = 'Okabe et al. 2010')\n",
      "ax.errorbar(okabe_2013_m200[0], okabe_2013_c200[0], xerr=okabe_2013_m200[1:2], yerr=okabe_2013_c200[1:2], c='0.5', mec='k', marker='D', fmt=' ', label = 'Okabe et al. 2013')\n",
      "ax.errorbar(okabe_2015_m200[0], okabe_2015_c200[0], xerr=okabe_2015_m200[1:2], yerr=okabe_2015_c200[1:2], c='0.5', mec='k', marker='<', fmt=' ', label = 'Okabe & Smith 2016')\n",
      "\n",
      "ax.set_xlabel('$M_{200c}$ [$M_\\odot/h$]')\n",
      "\n",
      "leg=plt.legend(loc='lower left', ncol=1)\n",
      "leg.get_frame().set_linewidth(0.0)\n",
      "\n",
      "fig1=plt.gcf()\n",
      "plt.show()"
     ],
     "language": "python",
     "metadata": {},
     "outputs": [
      {
       "metadata": {},
       "output_type": "display_data",
       "png": "[encoded data removed]",
       "text": [
        "<matplotlib.figure.Figure at 0x1064e9ed0>"
       ]
      }
     ],
     "prompt_number": 5
    },
    {
     "cell_type": "code",
     "collapsed": false,
     "input": [],
     "language": "python",
     "metadata": {},
     "outputs": []
    }
   ],
   "metadata": {}
  }
 ]
}